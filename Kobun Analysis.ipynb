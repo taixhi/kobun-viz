{
 "cells": [
  {
   "cell_type": "code",
   "execution_count": 30,
   "metadata": {},
   "outputs": [],
   "source": []
  },
  {
   "cell_type": "code",
   "execution_count": 31,
   "metadata": {},
   "outputs": [],
   "source": [
    "text = '折節のうつりかはるこそ、ものごとにあはれなれ。'"
   ]
  },
  {
   "cell_type": "code",
   "execution_count": null,
   "metadata": {},
   "outputs": [],
   "source": []
  },
  {
   "cell_type": "code",
   "execution_count": 76,
   "metadata": {},
   "outputs": [],
   "source": []
  },
  {
   "cell_type": "code",
   "execution_count": 75,
   "metadata": {},
   "outputs": [
    {
     "name": "stdout",
     "output_type": "stream",
     "text": [
      "[{'text': '', 'hinshi_1': 'BOS/EOS', 'hinshi_2': '*', 'hinshi_3': '*', 'hinshi_4': '*', 'katsuyo_type': '*', 'katsuyo_kei': '*', 'pronounciation': '*'}, {'text': '折節', 'hinshi_1': '名詞', 'hinshi_2': '普通名詞', 'hinshi_3': '副詞可能', 'hinshi_4': '*', 'katsuyo_type': '*', 'katsuyo_kei': '*', 'pronounciation': 'オリフシ'}, {'text': 'の', 'hinshi_1': '助詞', 'hinshi_2': '格助詞', 'hinshi_3': '*', 'hinshi_4': '*', 'katsuyo_type': '*', 'katsuyo_kei': '*', 'pronounciation': 'ノ'}, {'text': 'うつりかはる', 'hinshi_1': '動詞', 'hinshi_2': '一般', 'hinshi_3': '*', 'hinshi_4': '*', 'katsuyo_type': '文語四段-ラ行', 'katsuyo_kei': '連体形-一般', 'pronounciation': 'ウツリカワル'}, {'text': 'こそ', 'hinshi_1': '助詞', 'hinshi_2': '係助詞', 'hinshi_3': '*', 'hinshi_4': '*', 'katsuyo_type': '*', 'katsuyo_kei': '*', 'pronounciation': 'コソ'}, {'text': '、', 'hinshi_1': '補助記号', 'hinshi_2': '読点', 'hinshi_3': '*', 'hinshi_4': '*', 'katsuyo_type': '*', 'katsuyo_kei': '*', 'pronounciation': ''}, {'text': 'ものごと', 'hinshi_1': '名詞', 'hinshi_2': '普通名詞', 'hinshi_3': '一般', 'hinshi_4': '*', 'katsuyo_type': '*', 'katsuyo_kei': '*', 'pronounciation': 'モノゴト'}, {'text': 'に', 'hinshi_1': '助詞', 'hinshi_2': '格助詞', 'hinshi_3': '*', 'hinshi_4': '*', 'katsuyo_type': '*', 'katsuyo_kei': '*', 'pronounciation': 'ニ'}, {'text': 'あはれ', 'hinshi_1': '名詞', 'hinshi_2': '普通名詞', 'hinshi_3': '形状詞可能', 'hinshi_4': '*', 'katsuyo_type': '*', 'katsuyo_kei': '*', 'pronounciation': 'アワレ'}, {'text': 'なれ', 'hinshi_1': '助動詞', 'hinshi_2': '*', 'hinshi_3': '*', 'hinshi_4': '*', 'katsuyo_type': '文語助動詞-ナリ-断定', 'katsuyo_kei': '已然形-一般', 'pronounciation': 'ナリ'}, {'text': '。', 'hinshi_1': '補助記号', 'hinshi_2': '句点', 'hinshi_3': '*', 'hinshi_4': '*', 'katsuyo_type': '*', 'katsuyo_kei': '*', 'pronounciation': ''}, {'text': '', 'hinshi_1': 'BOS/EOS', 'hinshi_2': '*', 'hinshi_3': '*', 'hinshi_4': '*', 'katsuyo_type': '*', 'katsuyo_kei': '*', 'pronounciation': '*'}]\n"
     ]
    }
   ],
   "source": [
    "print(analyse(text))"
   ]
  },
  {
   "cell_type": "code",
   "execution_count": null,
   "metadata": {},
   "outputs": [],
   "source": []
  },
  {
   "cell_type": "code",
   "execution_count": null,
   "metadata": {},
   "outputs": [],
   "source": []
  },
  {
   "cell_type": "code",
   "execution_count": null,
   "metadata": {},
   "outputs": [],
   "source": []
  },
  {
   "cell_type": "code",
   "execution_count": null,
   "metadata": {},
   "outputs": [],
   "source": []
  }
 ],
 "metadata": {
  "kernelspec": {
   "display_name": "Python 3",
   "language": "python",
   "name": "python3"
  },
  "language_info": {
   "codemirror_mode": {
    "name": "ipython",
    "version": 3
   },
   "file_extension": ".py",
   "mimetype": "text/x-python",
   "name": "python",
   "nbconvert_exporter": "python",
   "pygments_lexer": "ipython3",
   "version": "3.7.3"
  }
 },
 "nbformat": 4,
 "nbformat_minor": 2
}
